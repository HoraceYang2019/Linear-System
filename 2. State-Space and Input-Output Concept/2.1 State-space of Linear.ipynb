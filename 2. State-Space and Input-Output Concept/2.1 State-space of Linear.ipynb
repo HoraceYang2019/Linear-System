{
 "cells": [
  {
   "cell_type": "markdown",
   "metadata": {},
   "source": [
    "## <font color='blue'>2.1 State Space Description of Linear System</font>"
   ]
  },
  {
   "cell_type": "markdown",
   "metadata": {},
   "source": [
    "#### Installation\n",
    "* conda install ipywidgets\n",
    "---"
   ]
  },
  {
   "cell_type": "markdown",
   "metadata": {
    "slideshow": {
     "slide_type": "slide"
    }
   },
   "source": [
    "### <font color='blue'>Problem</font>"
   ]
  },
  {
   "cell_type": "markdown",
   "metadata": {},
   "source": [
    "#### A. Two-legged wheeled balancing robot\n",
    "https://www.youtube.com/watch?v=07z1FbjhixM"
   ]
  },
  {
   "cell_type": "markdown",
   "metadata": {
    "slideshow": {
     "slide_type": "slide"
    }
   },
   "source": [
    "#### B. The T-REX wheel-legged robot \n",
    "The T-REX wheel-legged robot, with its lightweight design and adaptability to all terrains, equipped with robust mobility, jumping capabilities, and an upgraded AI vision system.\n",
    "https://www.youtube.com/watch?v=mQfc8o9RyxU"
   ]
  },
  {
   "cell_type": "markdown",
   "metadata": {},
   "source": [
    "### <font color='green'>Next: 2.2 Discrete-time Systems  </font>"
   ]
  },
  {
   "cell_type": "markdown",
   "metadata": {},
   "source": [
    "___"
   ]
  },
  {
   "cell_type": "markdown",
   "metadata": {},
   "source": [
    "### <font color='blue'>2.1 A. State and State Space</font>"
   ]
  },
  {
   "cell_type": "markdown",
   "metadata": {},
   "source": [
    "We assume that if an excitation or input is applied to the input terminals, a unique response or output signal can be measured at the output terminals. \n",
    "This unique relationship between the excitation and response, input and output, or cause and effect is essential in defining a system. \n",
    "* A system with only one input and output terminal is called a single-variable or single-input single-output (SISO) system.\n",
    "\n",
    "* A system with two or more input terminals and/or two or more output terminals is called a multivariable system. More specifically, we can call a system a multi-input, multi-output\n",
    "(MIMO) system if it has two or more input terminals and output terminals. \n",
    "\n",
    "* a single-input multi-output (SIMO) system if it has one input terminal and two or more output terminals"
   ]
  },
  {
   "attachments": {
    "55993938-fb91-424c-8de8-56548929ead9.png": {
     "image/png": "[encoded data removed]"
    }
   },
   "cell_type": "markdown",
   "metadata": {},
   "source": [
    "![image.png](attachment:55993938-fb91-424c-8de8-56548929ead9.png)"
   ]
  },
  {
   "cell_type": "markdown",
   "metadata": {},
   "source": [
    "Using the concept of linearity, every linear system can be described by\n",
    "\\begin{equation}\n",
    "\\mathbf{y}(t)=\\int_{t_0}^{t} \\mathbf{G}(t,\\tau) \\mathbf{u}(\\tau) d\\tau \\tag{1}\n",
    "\\end{equation}"
   ]
  },
  {
   "cell_type": "markdown",
   "metadata": {},
   "source": [
    "A system is called a continuous-time system if it accepts continuous-time signals as input and generates continuous-time signals as output. \n",
    "\n",
    "* The input will be denoted by lowercase italic $u(t)$ for single input or by $\\mathbf{u}(t)$ for multiple inputs. \n",
    "\n",
    "* If the system has $p$ input terminals, then $\\mathbf{u}(t)$ is a $p×1$ vector or $\\mathbf{u} = [u_1 u_2 ... u_p]′$, where the prime denotes the transpose. \n",
    "\n",
    "* Similarly, the output will be denoted by $y(t)$ or $\\mathbf{y}(t)$. The time $t$ is assumed to range from −∞ to ∞.\n",
    "\n",
    "* A system is called a discrete-time system if it accepts discrete-time signals as input and generates discrete-time signals as output. \n",
    "All discrete-time signals in a system will be assumed to have the same sampling period $T$. \n",
    "The input and output will be denoted by $u[k] := u(kT)$ and $y[k] := y(kT)$, where $k$ denotes discrete-time instant and is an integer ranging from −∞ to ∞. \n",
    "They become boldface for multiple inputs and multiple outputs."
   ]
  },
  {
   "cell_type": "markdown",
   "metadata": {},
   "source": [
    "#### Definition 2.1  \n",
    "The state $\\mathbf{x}(t_0)$ of a system at time $t_0$ is the information at $t_0$ that, together with the input $\\mathbf{u}(t)$, for $t ≥ t_0$, determines uniquely the output $\\mathbf{y}(t)$ for all $t ≥ t_0$."
   ]
  },
  {
   "cell_type": "markdown",
   "metadata": {},
   "source": [
    "By definition, if we know the state at $t_0$, there is no more need to know the input $\\mathbf{u}(t)$ applied before $t_0$ in determining the output $\\mathbf{y}(t)$ after $t_0$. Thus in some sense, the state summarizes the\n",
    "effect of past input on future output."
   ]
  },
  {
   "cell_type": "markdown",
   "metadata": {},
   "source": [
    "<div style=\"text-align: center;\">\n",
    "    <img src=\"https://cdn-uploads.huggingface.co/production/uploads/613b0a62a14099d5afed7830/G7icfkYoxIqHZcJGHM7UD.png\" width=\"400\" alt=\"Centered Image\">\n",
    "</div>"
   ]
  },
  {
   "cell_type": "markdown",
   "metadata": {},
   "source": [
    "A Typical stat-space equation\n",
    "\\begin{align} \n",
    "\\mathbf{\\dot{x}} (t) = \\mathbf{A}\\mathbf{x}(t) + \\mathbf{B} \\mathbf{u}(t) \\tag{2} \n",
    "\\end{align}\n",
    "\n",
    "\\begin{align} \n",
    "\\mathbf{y}(t) = \\mathbf{C} \\mathbf{x}(t) + \\mathbf{D} \\mathbf{u}(t) \\tag{3}\n",
    "\\end{align}"
   ]
  },
  {
   "cell_type": "markdown",
   "metadata": {},
   "source": [
    "---"
   ]
  },
  {
   "cell_type": "markdown",
   "metadata": {},
   "source": [
    "#### Example 1. Circuit case\n",
    "For the network shown as follows, the voltage $e(t)$ is the input variable, and the voltage $u_{R2}$ of resistors $R_2$ is the output variable. "
   ]
  },
  {
   "cell_type": "markdown",
   "metadata": {},
   "source": [
    "<div style=\"text-align: center;\">\n",
    "    <img src=\"RLC1.jpg\" width=\"300\" alt=\"Centered Image\">\n",
    "</div>"
   ]
  },
  {
   "cell_type": "markdown",
   "metadata": {},
   "source": [
    "#### Step 1: select state variables\n",
    "Considering the capacity $C$ and inductor $L$ are independent parts. We know that they are two linear independent states.  \n",
    "Hence, two states can be defined as $i_L$ and $u_C$.\n",
    "\\begin{equation}\n",
    "\\mathbf{x}(t_0) = \\begin{bmatrix} u_c(t_0) \\\\ i_L(t_0) \\end{bmatrix} \n",
    "\\end{equation}"
   ]
  },
  {
   "cell_type": "markdown",
   "metadata": {},
   "source": [
    "#### Step 2: list the circuit equations\n",
    "For the right loop,\n",
    "\\begin{align} \n",
    "u_c + R_2 C \\frac{d u_c}{dt} - L \\frac{d i_L}{dt} = 0\\tag{4} \n",
    "\\end{align}\n",
    "\n",
    "For the left loop,\n",
    "\\begin{align} \n",
    "e = R_1 (i_L + C\\frac{d u_c}{dt}) + L\\frac{d i_L}{dt}\\tag{5} \n",
    "\\end{align}"
   ]
  },
  {
   "cell_type": "markdown",
   "metadata": {},
   "source": [
    "#### Step 3: transfer equations into normal form\n",
    "\\begin{align} \n",
    "R_2 C \\frac{d u_c}{dt} - L \\frac{d i_L}{dt} = -u_c \\tag{6} \n",
    "\\end{align}\n",
    "\\begin{align} \n",
    "R_1 C \\frac{d u_c}{dt} + L \\frac{d i_L}{dt} = e - R_1 i_L\\tag{7}\n",
    "\\end{align}"
   ]
  },
  {
   "cell_type": "markdown",
   "metadata": {},
   "source": [
    "#### Step 4: Derive the state variable equations\n",
    "\\begin{equation}\n",
    "\\frac{d u_c}{dt} = \\\\\n",
    "\\frac{\\begin{vmatrix} - u_c & -L \\\\ e- R_1 i_L & L \\end{vmatrix}} \n",
    "{\\begin{vmatrix} R_2 C & -L \\\\ R_1 C & L \\end{vmatrix}} = \n",
    "\\frac{-u_c + e - R_1 i_L}{C(R_1 + R_2)} \\tag{8}\n",
    "\\end{equation}"
   ]
  },
  {
   "cell_type": "markdown",
   "metadata": {},
   "source": [
    "\\begin{equation}\n",
    "\\frac{d i_L}{dt} = \\\\\n",
    "\\frac{\\begin{vmatrix} R_2 C & -u_c \\\\ R_1 C & e - R_1 i_L \\end{vmatrix}} \n",
    "{\\begin{vmatrix} R_2 C & -L \\\\ R_1 C & L \\end{vmatrix}} = \n",
    "\\frac{R_2 e - R_2 R_1 i_L + R_1 u_c}{L(R_1 + R_2) } \\tag{9}\n",
    "\\end{equation}"
   ]
  },
  {
   "cell_type": "markdown",
   "metadata": {},
   "source": [
    "and the output $u_{R2}$ can be derived from (8)\n",
    "\\begin{equation}\n",
    "u_{R2} = R_2 i_L = R_2 C \\frac{d u_c}{dt} = R_2 \\frac{-u_c + e - R_1 i_L}{(R_1 + R_2)}\\tag{10}\n",
    "\\end{equation}"
   ]
  },
  {
   "cell_type": "markdown",
   "metadata": {},
   "source": [
    "#### Step 5: Find the state equations\n",
    "\\begin{equation}\n",
    "\\mathbf{\\dot{x}} = \\\\\n",
    "\\begin{bmatrix}\n",
    "\\dot{u}_c \\\\\n",
    "\\dot{i}_L\n",
    "\\end{bmatrix} = \\\\\n",
    "\\mathbf{A}\\mathbf{x} + \\mathbf{B} {u} =\\\\\n",
    "\\begin{bmatrix}\n",
    "-\\frac{1}{C(R_1+R_2)} & -\\frac{R_1}{C(R_1+R_2)}   \\\\\n",
    " \\frac{R_1}{L(R_1+R_2)}  & -\\frac{R_1 R_2}{L(R_1+R_2)}   \n",
    "\\end{bmatrix}\n",
    "\\begin{bmatrix}\n",
    "u_c \\\\\n",
    "i_L\n",
    "\\end{bmatrix} + \\\\\n",
    "\\begin{bmatrix}\n",
    "\\frac{1}{C(R_1+R_2)} \\\\\n",
    "\\frac{R_2}{L(R_1+R_2)}\n",
    "\\end{bmatrix} e \\tag{11}\n",
    "\\end{equation}"
   ]
  },
  {
   "cell_type": "markdown",
   "metadata": {},
   "source": [
    "\\begin{equation}\n",
    "y = \\mathbf{C} \\mathbf{x} + \\mathbf{D} {u} = \\\\\n",
    "u_{R2} = \\\\\n",
    "\\begin{bmatrix}\n",
    "-\\frac{R_2}{(R_1 + R_2)} & - \\frac{R_1 R_2}{R_1 + R_2} \n",
    "\\end{bmatrix}\n",
    "\\begin{bmatrix}\n",
    "u_c \\\\\n",
    "i_L\n",
    "\\end{bmatrix} +\\\\\n",
    "\\begin{bmatrix}\n",
    "\\frac{R_2}{R_1 + R_2}\n",
    "\\end{bmatrix} e \\tag{12}\n",
    "\\end{equation}"
   ]
  },
  {
   "cell_type": "markdown",
   "metadata": {},
   "source": [
    "---"
   ]
  },
  {
   "cell_type": "markdown",
   "metadata": {},
   "source": [
    "#### Example 2.\n",
    "Consider the mechanical system, which consists of a block with mass $m$ connected to a wall through a spring.\n",
    "We consider the applied force $u$ the input and displacement $y$ from the equilibrium the output. \n",
    "\n",
    "* The friction between the floor and the block generally consists of three distinct parts: static friction, Coulomb friction, and viscous\n",
    "friction. \n",
    "\n",
    "* The horizontal coordinate is velocity $\\dot{y} = dy/dt $. The friction is not a linear function of the velocity. \n",
    "\n",
    "To simplify the analysis, we disregard the static and Coulomb frictions and consider only the viscous friction. \n",
    "\n",
    "Then, the friction becomes linear and can be expressed as $k_1 \\dot{y}(t)$, where $k_1$ is the viscous friction coefficient. "
   ]
  },
  {
   "cell_type": "markdown",
   "metadata": {},
   "source": [
    "<div style=\"text-align: center;\">\n",
    "    <img src=\"mass+spring.jpg\" width=\"200\" alt=\"Centered Image\">\n",
    "</div>"
   ]
  },
  {
   "cell_type": "markdown",
   "metadata": {},
   "source": [
    "We apply Newton’s law to develop an equation to describe the system. The applied force $u$ must overcome the friction and the spring force. \n",
    "The remainder is used to accelerate the block. Thus we have\n",
    "$$ m \\ddot{y} = u - k_1 \\dot{y} - k_2 y \\tag{13}$$"
   ]
  },
  {
   "cell_type": "markdown",
   "metadata": {},
   "source": [
    "Let us select the displacement and velocity of the block as state variables; that is, $x_1$ = $y$, $x_2$ = $\\dot{y}$. Then we have,\n",
    "$$ \\dot{x_1} = x_2, m \\dot{x_2} = u - k_1 x_2 - k_2 x_1 \\tag{14}$$\n",
    "They can be expressed in matrix form as\n",
    "\\begin{equation}\n",
    "\\begin{bmatrix}\n",
    "\\dot{x_1}(t) \\\\\n",
    "\\dot{x_2}(t)\n",
    "\\end{bmatrix} = \\\\\n",
    "\\begin{bmatrix}\n",
    "0  &  1 \\\\\n",
    "-\\frac{k_2}{m} & -\\frac{k_1}{m} \n",
    "\\end{bmatrix} = \\\\\n",
    "\\begin{bmatrix}\n",
    "x_1(t) \\\\\n",
    "x_2(t)\n",
    "\\end{bmatrix} = \\\\\n",
    "\\begin{bmatrix}\n",
    "0 \\\\\n",
    "\\frac{1}{m}\n",
    "\\end{bmatrix} u(t) \\tag{15}\n",
    "\\end{equation}\n",
    "\n",
    "$$ y(t) = \\begin{bmatrix}\n",
    "1 & 0\n",
    "\\end{bmatrix}\n",
    "\\begin{bmatrix}\n",
    "x_1(t) \\\\\n",
    "x_2(t)\n",
    "\\end{bmatrix} \\tag{16} $$"
   ]
  },
  {
   "cell_type": "markdown",
   "metadata": {},
   "source": [
    "Also, when applying the Laplace transform and assuming zero initial conditions, we obtain\n",
    "$$ m s^2 \\hat{y}(s) = \\hat{u}(s) - k_1 s \\hat{y}(s) - k_2 \\hat{y}(s) \\tag{17}$$\n",
    "which implies\n",
    "$$ \\hat{y}(s) = \\frac{1}{m s^2 + k_1 s + k_2} \\hat{u}(s) \\tag{18}$$"
   ]
  },
  {
   "cell_type": "markdown",
   "metadata": {},
   "source": [
    "---"
   ]
  },
  {
   "cell_type": "markdown",
   "metadata": {},
   "source": [
    "### Example 3\n",
    "Consider a cart with an inverted pendulum hinged on top of it.\n",
    "\n",
    "* For simplicity, the cart and the pendulum are assumed to move in only one plane, and the friction, the mass of the stick, and the gust of wind are disregarded. The problem is to maintain\n",
    "the pendulum at the vertical position. \n",
    "\n",
    "* For example, if the inverted pendulum is falling in the direction shown, the cart moves to the right and exerts a force, through the hinge, to push the\n",
    "pendulum back to the vertical position. This simple mechanism can be used as a model of a space vehicle on takeoff.\n",
    "\n",
    "* Let $F_H$ and $F_V$ be the horizontal and vertical forces exerted by the cart on the pendulum as shown. The application of Newton’s law to linear movements yields"
   ]
  },
  {
   "cell_type": "markdown",
   "metadata": {},
   "source": [
    "<div style=\"text-align: center;\">\n",
    "    <img src=\"invert-cart.jpg\" width=\"200\" alt=\"Centered Image\">\n",
    "</div>"
   ]
  },
  {
   "cell_type": "markdown",
   "metadata": {},
   "source": [
    "For the cart in the horizontal direction,\n",
    "$$ M \\frac{d^2 y}{dt^2} = u - F_H \\tag{19}$$\n",
    "\n",
    "For the mass in the horizontal direction,\n",
    "$$ F_H = m\\frac{d^2}{dt^2}(y + l \\sin {\\theta}) = m\\ddot{y} + ml\\ddot{\\theta} \\cos\\theta - ml(\\dot\\theta)^2 \\sin \\theta \\tag{20} $$\n",
    "\n",
    "In the vertical axis,\n",
    "$$ mg - F_V = m\\frac{d^2}{dt^2}(l \\cos \\theta) = ml[- \\ddot{\\theta} \\sin\\theta - (\\dot\\theta)^2 \\cos \\theta] \\tag{21}$$"
   ]
  },
  {
   "cell_type": "markdown",
   "metadata": {},
   "source": [
    "The application of Newton’s law to the rotational movement of the pendulum around the hinge yields\n",
    "$$ mgl\\sin\\theta = ml\\ddot\\theta l + m \\ddot{y} l \\cos \\theta \\tag{22}$$"
   ]
  },
  {
   "cell_type": "markdown",
   "metadata": {},
   "source": [
    "They are nonlinear equations. Because the design objective is to maintain the pendulum at the vertical position, assuming θ and $\\dot{θ}$ to be small is reasonable. \n",
    "\n",
    "Under this assumption, we can use the approximation $\\sin θ = θ $ and $\\cos θ = 1$. \n",
    "\n",
    "By retaining only the linear terms in θ and $\\dot{θ}$ or, equivalently, dropping the terms with $θ^2$, $(\\dot{θ})^2$, and $θ\\ddot{θ}$, from (20), \n",
    "we obtain $F_V = mg$ and from (19) and (20)\n",
    "$$ M\\ddot{y} = u - F_V = u - m\\ddot{y} -ml\\ddot{\\theta} \\tag{23}$$\n",
    "\n",
    "From (21),\n",
    "$$ g\\theta = l\\ddot{\\theta} + \\ddot{y} \\tag{24}$$"
   ]
  },
  {
   "cell_type": "markdown",
   "metadata": {},
   "source": [
    "We can now develop the input-output and state-space descriptions using these linearized equations.\n",
    "From (23) and (24),\n",
    "$$ M\\ddot{y} = u-m(g\\theta-l\\ddot{\\theta}) - ml\\ddot{\\theta} = u - mg\\theta \\tag{25}$$\n",
    "Based on (25) and (23)\n",
    "$$ M(g\\theta - l \\ddot{\\theta})  = u - mg\\theta \\implies Ml\\ddot{\\theta} = (M+m)g\\theta -u \\tag{26}$$"
   ]
  },
  {
   "cell_type": "markdown",
   "metadata": {},
   "source": [
    "To develop a state-space equation, we select state variables as $x_1 = y$, $x_2 = \\dot{y}$, $x_3 = θ$, and $x_4 = \\dot{θ}$. \n",
    "Then from this selection, (25) and (26) we can readily obtain"
   ]
  },
  {
   "cell_type": "markdown",
   "metadata": {},
   "source": [
    "\\begin{equation}\n",
    "\\mathbf{\\dot{x}}=\n",
    "\\begin{bmatrix}\n",
    "\\dot{x_1}(t) \\\\\n",
    "\\dot{x_2}(t) \\\\\n",
    "\\dot{x_3}(t) \\\\\n",
    "\\dot{x_4}(t) \n",
    "\\end{bmatrix} = \n",
    "\\begin{bmatrix}\n",
    "0  &  1   &  0      &   0 \\\\\n",
    "0  &  0   &  -mg/M  &   0 \\\\\n",
    "0  &  0   &  0      &   1 \\\\\n",
    "0  &  0   &  (M+m)g/Ml   &   0 \n",
    "\\end{bmatrix} \n",
    "\\begin{bmatrix}\n",
    "{x_1}(t) \\\\\n",
    "{x_2}(t) \\\\\n",
    "{x_3}(t) \\\\\n",
    "{x_4}(t) \n",
    "\\end{bmatrix} + \n",
    "\\begin{bmatrix}\n",
    "0 \\\\\n",
    "1/M \\\\\n",
    "0  \\\\\n",
    "-1/Ml \n",
    "\\end{bmatrix} u \\tag{27}\n",
    "\\end{equation}"
   ]
  },
  {
   "cell_type": "markdown",
   "metadata": {},
   "source": [
    "$$ y = \\begin{bmatrix} 1 & 0 & 0 & \\end{bmatrix} \\mathbf{x} \\tag{28}$$\n",
    "This state equation has dimension 4 and describes the system when $θ$ and $\\dot{θ}$ are very small."
   ]
  },
  {
   "cell_type": "markdown",
   "metadata": {},
   "source": [
    "Applying the Laplace transform to (27) and (28) and assuming zero initial conditions, we obtain\n",
    "$$ M s^2 \\hat{y}(s) = \\hat{u}(s) - mg \\hat{\\theta}(s) \\tag{29} $$\n",
    "$$ Ml s^2 \\hat{\\theta}(s) = (M+m)g\\hat{\\theta}(s) - \\hat{u}(s) \\tag{30}$$\n",
    "from (30), transfer function $\\hat{g}_{θu}(s)$ from $u$ to $θ$ as\n",
    "$$ \\hat{g}_{θu}(s) = \\frac{-1}{Ms^2 - (M+m)g}$$\n",
    "\n",
    "from (29), transfer function $\\hat{g}_{uy}(s)$ from $u$ to $y$ as\n",
    "$$ \\hat{g}_{yu}(s) = \\frac{s^2 -g}{s^2[Ms^2 - (M+m)g]}$$"
   ]
  },
  {
   "cell_type": "markdown",
   "metadata": {},
   "source": [
    "---"
   ]
  },
  {
   "cell_type": "markdown",
   "metadata": {},
   "source": [
    "### <font color='blue'>2.1 B. What will happen when realizing in Python</font>"
   ]
  },
  {
   "cell_type": "markdown",
   "metadata": {},
   "source": [
    "All *first-order linear differential equations* with constant coefficients can be rewritten in the following form:\n",
    "\n",
    "$$ \\frac{\\mathrm{d}y}{\\mathrm{d}t} = ay(t) + bu(t) $$\n",
    "\n",
    "Where $y$ is the output and $u$ is the input or forcing function.\n",
    "\n",
    "If we Laplace transform this, we end up with\n",
    "\n",
    "\\begin{align}\n",
    "\\mathcal{L}\\left\\{\\frac{\\mathrm{d}y}{\\mathrm{d}t}\\right\\} &= \\mathcal{L}\\{ay(t) + bu(t)\\} \\\\\n",
    "sy(s) &= ay(s) + bu(s) \\\\\n",
    "y(s) &= \\frac{b}{s - a}u(s) \\\\\n",
    "\\end{align}"
   ]
  },
  {
   "cell_type": "code",
   "execution_count": 1,
   "metadata": {},
   "outputs": [],
   "source": [
    "import sympy\n",
    "import matplotlib.pyplot as plt\n",
    "import numpy\n",
    "sympy.init_printing()\n",
    "%matplotlib inline\n",
    "t, k, tau = sympy.symbols('t, k, tau',real=True, positive=True)\n",
    "s = sympy.Symbol('s')"
   ]
  },
  {
   "cell_type": "code",
   "execution_count": 2,
   "metadata": {},
   "outputs": [],
   "source": [
    "def L(f):\n",
    "    return sympy.laplace_transform(f, t, s, noconds=True)\n",
    "def invL(F):\n",
    "    return sympy.inverse_laplace_transform(F, s, t)"
   ]
  },
  {
   "cell_type": "code",
   "execution_count": 3,
   "metadata": {},
   "outputs": [
    {
     "data": {
      "image/png": "[encoded data removed]",
      "text/latex": [
       "$\\displaystyle 1$"
      ],
      "text/plain": [
       "1"
      ]
     },
     "execution_count": 3,
     "metadata": {},
     "output_type": "execute_result"
    }
   ],
   "source": [
    "# let u is step function\n",
    "u = sympy.Heaviside(t)\n",
    "u"
   ]
  },
  {
   "cell_type": "code",
   "execution_count": 4,
   "metadata": {},
   "outputs": [
    {
     "data": {
      "image/png": "[encoded data removed]",
      "text/latex": [
       "$\\displaystyle \\frac{1}{s}$"
      ],
      "text/plain": [
       "1\n",
       "─\n",
       "s"
      ]
     },
     "execution_count": 4,
     "metadata": {},
     "output_type": "execute_result"
    }
   ],
   "source": [
    "U = L(u) # laplace transform of unit step function \n",
    "U"
   ]
  },
  {
   "cell_type": "code",
   "execution_count": 5,
   "metadata": {},
   "outputs": [
    {
     "data": {
      "image/png": "[encoded data removed]",
      "text/latex": [
       "$\\displaystyle \\frac{k}{s \\tau + 1}$"
      ],
      "text/plain": [
       "   k   \n",
       "───────\n",
       "s⋅τ + 1"
      ]
     },
     "execution_count": 5,
     "metadata": {},
     "output_type": "execute_result"
    }
   ],
   "source": [
    "# let a transfer function is as follows\n",
    "G = k/(tau*s + 1)\n",
    "G"
   ]
  },
  {
   "cell_type": "markdown",
   "metadata": {},
   "source": [
    "If $u(t)$ is the unit step function, $U(s)=\\frac{1}{s}$ and we can obtain the step response as follows:"
   ]
  },
  {
   "cell_type": "code",
   "execution_count": 6,
   "metadata": {},
   "outputs": [
    {
     "data": {
      "image/png": "[encoded data removed]",
      "text/latex": [
       "$\\displaystyle \\frac{k e^{- \\frac{t}{\\tau}}}{\\tau}$"
      ],
      "text/plain": [
       "   -t \n",
       "   ───\n",
       "    τ \n",
       "k⋅ℯ   \n",
       "──────\n",
       "  τ   "
      ]
     },
     "execution_count": 6,
     "metadata": {},
     "output_type": "execute_result"
    }
   ],
   "source": [
    "imp_rsp = invL(G)\n",
    "imp_rsp"
   ]
  },
  {
   "cell_type": "code",
   "execution_count": 7,
   "metadata": {},
   "outputs": [
    {
     "data": {
      "image/png": "[encoded data removed]",
      "text/latex": [
       "$\\displaystyle k \\left(1 - e^{- \\frac{t}{\\tau}}\\right)$"
      ],
      "text/plain": [
       "  ⎛     -t ⎞\n",
       "  ⎜     ───⎟\n",
       "  ⎜      τ ⎟\n",
       "k⋅⎝1 - ℯ   ⎠"
      ]
     },
     "execution_count": 7,
     "metadata": {},
     "output_type": "execute_result"
    }
   ],
   "source": [
    "u = 1/s\n",
    "step_rsp = invL(G*u)\n",
    "step_rsp"
   ]
  },
  {
   "cell_type": "code",
   "execution_count": 8,
   "metadata": {},
   "outputs": [],
   "source": [
    "from ipywidgets import interact\n",
    "evalfimpulse = sympy.lambdify((k, tau, t), imp_rsp, 'numpy')\n",
    "evalfstep = sympy.lambdify((k, tau, t), step_rsp, 'numpy')\n",
    "ts = numpy.linspace(0, 10)"
   ]
  },
  {
   "cell_type": "code",
   "execution_count": 9,
   "metadata": {},
   "outputs": [
    {
     "data": {
      "image/png": "[encoded data removed]",
      "text/plain": [
       "<Figure size 1200x600 with 3 Axes>"
      ]
     },
     "metadata": {},
     "output_type": "display_data"
    }
   ],
   "source": [
    "def firstorder(tau_in, k_in):\n",
    "    plt.figure(figsize=(12, 6))\n",
    "    ax_impulse = plt.subplot2grid((2, 2), (0, 0))\n",
    "    ax_step = plt.subplot2grid((2, 2), (1, 0))\n",
    "    ax_complex = plt.subplot2grid((2, 2), (0, 1), rowspan=2)\n",
    "    \n",
    "    ax_impulse.plot(ts, evalfimpulse(k_in, tau_in, ts))\n",
    "    ax_impulse.set_title('Impulse response')\n",
    "    ax_impulse.set_ylim(0, 10)\n",
    "    \n",
    "    tau_height = 1 - numpy.exp(-1)\n",
    "    ax_step.set_title('Step response')\n",
    "    ax_step.plot(ts, evalfstep(k_in, tau_in, ts))\n",
    "    ax_step.axhline(k_in)\n",
    "    ax_step.plot([0, tau_in, tau_in], [k_in*tau_height]*2 + [0], alpha=0.4)\n",
    "    ax_step.text(0, k_in, '$K=${}'.format(k_in))\n",
    "    ax_step.text(0, k_in*tau_height, '{:.3}$K$'.format(tau_height))\n",
    "    ax_step.text(tau_in, 0, r'$\\tau={:.3}$'.format(tau_in))\n",
    "    ax_step.set_ylim(0, 10)\n",
    "    \n",
    "    ax_complex.set_title('Poles plot')\n",
    "    ax_complex.scatter(-1/tau_in, 0, marker='x', s=30)\n",
    "    ax_complex.axhline(0, color='black')\n",
    "    ax_complex.axvline(0, color='black')\n",
    "    ax_complex.axis([-10, 10, -10, 10])\n",
    "firstorder(1., 10.)"
   ]
  },
  {
   "cell_type": "code",
   "execution_count": 10,
   "metadata": {},
   "outputs": [
    {
     "data": {
      "application/vnd.jupyter.widget-view+json": {
       "model_id": "9b71aecc3b794c85aba6f27ff7505893",
       "version_major": 2,
       "version_minor": 0
      },
      "text/plain": [
       "interactive(children=(FloatSlider(value=5.05, description='tau_in', max=10.0, min=0.1), FloatSlider(value=5.05…"
      ]
     },
     "metadata": {},
     "output_type": "display_data"
    }
   ],
   "source": [
    "interact(firstorder, tau_in=(0.1, 10.), k_in=(0.1, 10.));"
   ]
  },
  {
   "cell_type": "markdown",
   "metadata": {},
   "source": [
    "Exploration of the above interaction allows us to see the following:\n",
    "\n",
    "* $k$ scales the response in the $y$ direction\n",
    "* $\\tau$ scales the response in the $t$ direction\n",
    "* The response of the system is always $0.63k$ when $t=\\tau$"
   ]
  },
  {
   "cell_type": "markdown",
   "metadata": {},
   "source": [
    "---"
   ]
  },
  {
   "cell_type": "markdown",
   "metadata": {},
   "source": [
    "Assume a second-order transfer funtion as follows."
   ]
  },
  {
   "cell_type": "code",
   "execution_count": 11,
   "metadata": {},
   "outputs": [
    {
     "data": {
      "image/png": "[encoded data removed]",
      "text/latex": [
       "$\\displaystyle \\frac{k}{s^{2} \\tau^{2} + 2 s \\tau \\zeta + 1}$"
      ],
      "text/plain": [
       "         k         \n",
       "───────────────────\n",
       " 2  2              \n",
       "s ⋅τ  + 2⋅s⋅τ⋅ζ + 1"
      ]
     },
     "execution_count": 11,
     "metadata": {},
     "output_type": "execute_result"
    }
   ],
   "source": [
    "tau, zeta, t, w, k = sympy.symbols('tau, zeta, t, w, k', real=True, positive=True)\n",
    "G = k/(tau**2*s**2 + 2*tau*zeta*s + 1)\n",
    "G"
   ]
  },
  {
   "cell_type": "markdown",
   "metadata": {},
   "source": [
    "The characteristic equation is the denominator of the transfer function"
   ]
  },
  {
   "cell_type": "code",
   "execution_count": 12,
   "metadata": {},
   "outputs": [
    {
     "data": {
      "image/png": "[encoded data removed]",
      "text/latex": [
       "$\\displaystyle s^{2} \\tau^{2} + 2 s \\tau \\zeta + 1 = 0$"
      ],
      "text/plain": [
       " 2  2                  \n",
       "s ⋅τ  + 2⋅s⋅τ⋅ζ + 1 = 0"
      ]
     },
     "execution_count": 12,
     "metadata": {},
     "output_type": "execute_result"
    }
   ],
   "source": [
    "ce = sympy.Eq(sympy.denom(G), 0)\n",
    "ce"
   ]
  },
  {
   "cell_type": "code",
   "execution_count": 13,
   "metadata": {},
   "outputs": [
    {
     "data": {
      "image/png": "[encoded data removed]",
      "text/latex": [
       "$\\displaystyle \\left\\{ \\frac{- \\zeta - \\sqrt{\\zeta - 1} \\sqrt{\\zeta + 1}}{\\tau} : 1, \\  \\frac{- \\zeta + \\sqrt{\\zeta - 1} \\sqrt{\\zeta + 1}}{\\tau} : 1\\right\\}$"
      ],
      "text/plain": [
       "⎧       _______   _______            _______   _______   ⎫\n",
       "⎪-ζ - ╲╱ ζ - 1 ⋅╲╱ ζ + 1      -ζ + ╲╱ ζ - 1 ⋅╲╱ ζ + 1    ⎪\n",
       "⎨────────────────────────: 1, ────────────────────────: 1⎬\n",
       "⎪           τ                            τ               ⎪\n",
       "⎩                                                        ⎭"
      ]
     },
     "execution_count": 13,
     "metadata": {},
     "output_type": "execute_result"
    }
   ],
   "source": [
    "roots = sympy.roots(ce, s)\n",
    "roots"
   ]
  },
  {
   "cell_type": "markdown",
   "metadata": {},
   "source": [
    "The shape of the inverse Laplace depends on the nature of the roots, which depends on the value of $\\zeta$\n",
    "\n",
    "Overdamped: $\\zeta>1$. Two distinct real roots"
   ]
  },
  {
   "cell_type": "code",
   "execution_count": 14,
   "metadata": {},
   "outputs": [
    {
     "data": {
      "application/vnd.jupyter.widget-view+json": {
       "model_id": "434df573f9834daabf0398e0593b0fc9",
       "version_major": 2,
       "version_minor": 0
      },
      "text/plain": [
       "interactive(children=(FloatSlider(value=5.0, description='K_in', max=10.0), FloatSlider(value=5.0, description…"
      ]
     },
     "metadata": {},
     "output_type": "display_data"
    }
   ],
   "source": [
    "def secondorder(K_in, tau_in, zeta_in, tmax):\n",
    "    values = {k: sympy.nsimplify(K_in), tau: sympy.nsimplify(tau_in), zeta: sympy.nsimplify(zeta_in)}\n",
    "    stepresponse = sympy.re(invL(G.subs(values)/s))\n",
    "\n",
    "    sympy.plot(stepresponse, (t, 0, tmax), ylim = [0, 10])\n",
    "interact(secondorder, K_in=(0, 10.), tau_in=(0., 10.), zeta_in=(0., 2), tmax=(30., 100));"
   ]
  },
  {
   "cell_type": "markdown",
   "metadata": {},
   "source": [
    "### <font color='red'> Final Problem:</font>\n",
    "1. What is the impulse response of the system of example 2, if $m$ = 1, $k_1$ = 3, $k_2$ = 2?\n",
    "2. Can we extend to a bicycle model based on example 3? and how to do?  "
   ]
  }
 ],
 "metadata": {
  "kernelspec": {
   "display_name": "Python 3 (ipykernel)",
   "language": "python",
   "name": "python3"
  },
  "language_info": {
   "codemirror_mode": {
    "name": "ipython",
    "version": 3
   },
   "file_extension": ".py",
   "mimetype": "text/x-python",
   "name": "python",
   "nbconvert_exporter": "python",
   "pygments_lexer": "ipython3",
   "version": "3.11.9"
  },
  "varInspector": {
   "cols": {
    "lenName": 16,
    "lenType": 16,
    "lenVar": 40
   },
   "kernels_config": {
    "python": {
     "delete_cmd_postfix": "",
     "delete_cmd_prefix": "del ",
     "library": "var_list.py",
     "varRefreshCmd": "print(var_dic_list())"
    },
    "r": {
     "delete_cmd_postfix": ") ",
     "delete_cmd_prefix": "rm(",
     "library": "var_list.r",
     "varRefreshCmd": "cat(var_dic_list()) "
    }
   },
   "types_to_exclude": [
    "module",
    "function",
    "builtin_function_or_method",
    "instance",
    "_Feature"
   ],
   "window_display": false
  }
 },
 "nbformat": 4,
 "nbformat_minor": 4
}
