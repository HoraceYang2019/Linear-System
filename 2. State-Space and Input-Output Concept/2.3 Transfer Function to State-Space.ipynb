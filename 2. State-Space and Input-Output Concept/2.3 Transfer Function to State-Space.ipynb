{
 "cells": [
  {
   "cell_type": "markdown",
   "metadata": {},
   "source": [
    "## <font color='blue'>2.3 Transfer Function to State-Space</font>"
   ]
  },
  {
   "cell_type": "markdown",
   "metadata": {},
   "source": [
    "---"
   ]
  },
  {
   "cell_type": "markdown",
   "metadata": {
    "slideshow": {
     "slide_type": "slide"
    }
   },
   "source": [
    "### <font color='blue'>Problem</font>"
   ]
  },
  {
   "cell_type": "raw",
   "metadata": {},
   "source": [
    "#### A. Self-Stabilizing Quadcopter UAV Using PID Control\n",
    "Focus on the control systems aspects of the project including block diagram, system modeling, transfer function, PID controller, time response, root locus, bode plot, etc. Discussion of design, simulation, analysis, and challenges. https://www.youtube.com/watch?v=clyusOrMqbU\n",
    "\n",
    "#### B. Modeling and Simulation of Advanced Amateur Rockets\n",
    "This is an overview of the three phases of Modeling and Simulation that I use for rocket design. These steps take us from the start of the design process through to the flight test. https://www.youtube.com/watch?v=sEzRzkGRpDQ"
   ]
  },
  {
   "cell_type": "markdown",
   "metadata": {},
   "source": [
    "### <font color='green'>Next: 2.4 Eigen Structure of Linear Time-Invariant System </font>"
   ]
  },
  {
   "cell_type": "markdown",
   "metadata": {},
   "source": [
    "___"
   ]
  },
  {
   "cell_type": "markdown",
   "metadata": {},
   "source": [
    "### <font color='blue'>2.3 A. Description system in state space from transfer function </font>"
   ]
  },
  {
   "cell_type": "raw",
   "metadata": {},
   "source": [
    "Note that there is an extra $z$ in front of $x[0]$. If $x[0]$ = 0, then (11) reduces to\n",
    "\\begin{equation}\\begin{split}\n",
    "\\hat{\\mathbf{x}}(z) &= (z\\mathbf{I} -\\mathbf{A})^{-1}\\mathbf{B} \\hat{\\mathbf{u}}(z)  \\\\ \n",
    "\\hat{\\mathbf{y}}(z) &= [\\mathbf{C}(z\\mathbf{I} -\\mathbf{A})^{-1} \\mathbf{B} + \\mathbf{D}] \\hat{\\mathbf{u}}(z)\n",
    "\\end{split} \\tag{12}\\end{equation}\n",
    "The transfer function will be \n",
    "$$ \\hat{\\mathbf{G}}(z) = \\mathbf{C}(z\\mathbf{I} -\\mathbf{A})^{-1} \\mathbf{B} + \\mathbf{D} \\tag{13}$$"
   ]
  },
  {
   "cell_type": "markdown",
   "metadata": {},
   "source": [
    "---\n",
    "### <font color='blue'>2.3 B. What will happen when realizing in Python</font>"
   ]
  },
  {
   "cell_type": "raw",
   "metadata": {},
   "source": [
    "*Question: If A, B, C, and D are given, what are the time and frequency responses of the linear system?*"
   ]
  },
  {
   "cell_type": "markdown",
   "metadata": {},
   "source": [
    "### <font color='red'> Final Problem:</font>"
   ]
  },
  {
   "cell_type": "raw",
   "metadata": {},
   "source": [
    "1. What is the impulse response of the system of example 2, if $m$ = 1, $k_1$ = 3, $k_2$ = 2?\n",
    "2. Can we extend to a bicycle model based on example 3? and how to do?  "
   ]
  },
  {
   "cell_type": "markdown",
   "metadata": {},
   "source": [
    "Ref: https://hackmd.io/@CynthiaChuang/Basic-LaTeX-Commands"
   ]
  }
 ],
 "metadata": {
  "kernelspec": {
   "display_name": "Python 3 (ipykernel)",
   "language": "python",
   "name": "python3"
  },
  "language_info": {
   "codemirror_mode": {
    "name": "ipython",
    "version": 3
   },
   "file_extension": ".py",
   "mimetype": "text/x-python",
   "name": "python",
   "nbconvert_exporter": "python",
   "pygments_lexer": "ipython3",
   "version": "3.11.7"
  },
  "varInspector": {
   "cols": {
    "lenName": 16,
    "lenType": 16,
    "lenVar": 40
   },
   "kernels_config": {
    "python": {
     "delete_cmd_postfix": "",
     "delete_cmd_prefix": "del ",
     "library": "var_list.py",
     "varRefreshCmd": "print(var_dic_list())"
    },
    "r": {
     "delete_cmd_postfix": ") ",
     "delete_cmd_prefix": "rm(",
     "library": "var_list.r",
     "varRefreshCmd": "cat(var_dic_list()) "
    }
   },
   "types_to_exclude": [
    "module",
    "function",
    "builtin_function_or_method",
    "instance",
    "_Feature"
   ],
   "window_display": false
  }
 },
 "nbformat": 4,
 "nbformat_minor": 4
}
