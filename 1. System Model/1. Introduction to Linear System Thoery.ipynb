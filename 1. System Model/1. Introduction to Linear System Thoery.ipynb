{
 "cells": [
  {
   "cell_type": "markdown",
   "metadata": {},
   "source": [
    "## <font color='blue'>1. Introduction to Linear System Theory</font>"
   ]
  },
  {
   "cell_type": "markdown",
   "metadata": {},
   "source": [
    "### Installation\n",
    "* conda install -c conda-forge control slycot\n",
    "* conda install sympy"
   ]
  },
  {
   "cell_type": "markdown",
   "metadata": {},
   "source": [
    "---"
   ]
  },
  {
   "cell_type": "markdown",
   "metadata": {
    "slideshow": {
     "slide_type": "slide"
    }
   },
   "source": [
    "### <font color='blue'>Problem</font>"
   ]
  },
  {
   "cell_type": "markdown",
   "metadata": {
    "slideshow": {
     "slide_type": "slide"
    }
   },
   "source": [
    "#### A. How to balance a motorcycle.\n",
    "Honda Motorbike Riding Assist allows a motorbike to auto-balance in place, with or without a rider. Riding a bike at slow speeds, such as starting and stopping in peak hour traffic or traffic jams, or keeping a bike upright on windy days at stop lights, can be quite challenging, a rider can become fatigued, especially on big heavy bikes.\n",
    "https://www.youtube.com/watch?v=5BgkdxqBlj0"
   ]
  },
  {
   "cell_type": "markdown",
   "metadata": {},
   "source": [
    "#### B. How to build a simple bicycle kinematic model\n",
    "https://dingyan89.medium.com/simple-understanding-of-kinematic-bicycle-model-81cac6420357"
   ]
  },
  {
   "cell_type": "markdown",
   "metadata": {},
   "source": [
    "### <font color='green'>Next: 2.1 State Space Modeling</font>"
   ]
  },
  {
   "cell_type": "markdown",
   "metadata": {},
   "source": [
    "___"
   ]
  },
  {
   "cell_type": "markdown",
   "metadata": {},
   "source": [
    "### <font color='blue'>1. A. Target of Linear System Theory</font>"
   ]
  },
  {
   "cell_type": "markdown",
   "metadata": {},
   "source": [
    "A system is an inter-associated and inter-controlled of parts as a whole system.\n",
    "\n",
    "* The states of a system are presented by variables describing characteristics of system behaviors. \n",
    "\n",
    "* A system will be changed over time. "
   ]
  },
  {
   "attachments": {
    "55993938-fb91-424c-8de8-56548929ead9.png": {
     "image/png": "[encoded data removed]"
    }
   },
   "cell_type": "markdown",
   "metadata": {},
   "source": [
    "![image.png](attachment:55993938-fb91-424c-8de8-56548929ead9.png)"
   ]
  },
  {
   "cell_type": "markdown",
   "metadata": {},
   "source": [
    "Using the concept of linearity, every linear system can be described by\n",
    "\\begin{equation}\n",
    "\\mathbf{y}(t)=\\int_{t_0}^{t} \\mathbf{G}(t,\\tau) \\mathbf{u}(\\tau) d\\tau \\tag{1}\n",
    "\\end{equation}"
   ]
  },
  {
   "cell_type": "markdown",
   "metadata": {},
   "source": [
    "This equation is called the input-output or external description, which describes the relationship between the input $\\mathbf{u}$ and output $\\mathbf{y}$. \n",
    "If a linear system is lumped as well, then it can also be described by\n",
    "\n",
    "\\begin{align} \n",
    "\\mathbf{\\dot{x}} (t) &= \\mathbf{A(t)}\\mathbf{x}(t) + \\mathbf{B}(t) \\mathbf{u}(t) \\tag{2} \n",
    "\\end{align}\n",
    "\\begin{align} \n",
    "\\mathbf{y}(t) &= \\mathbf{C}(t) \\mathbf{x}(t) + \\mathbf{D}(t) \\mathbf{u}(t) \\tag{3}\n",
    "\\end{align}"
   ]
  },
  {
   "cell_type": "markdown",
   "metadata": {},
   "source": [
    "Equation (2) is a set of *first-order differential equations* and Equation (3) is a set of *algebraic equations*. \n",
    "They are called the internal description of linear systems. Because the vector $\\mathbf{x}$ is called the *state*, \n",
    "the set of two equations is called the state-space or, simply, the *state equation*."
   ]
  },
  {
   "cell_type": "markdown",
   "metadata": {},
   "source": [
    "If a linear system has, in addition, the property of time invariance, then Equations (1) to (3) reduce to\n",
    "\\begin{equation}\n",
    "\\mathbf{y}(t)=\\int_{0}^{t} \\mathbf{G}(t-\\tau) \\mathbf{u}(\\tau) d\\tau \\tag{4}\n",
    "\\end{equation}\n",
    "and\n",
    "\\begin{align} \n",
    "\\mathbf{\\dot{x}} (t) = \\mathbf{A}\\mathbf{x}(t) + \\mathbf{B} \\mathbf{u}(t) \\tag{5} \n",
    "\\end{align}\n",
    "\n",
    "\\begin{align} \n",
    "\\mathbf{y}(t) = \\mathbf{C} \\mathbf{x}(t) + \\mathbf{D} \\mathbf{u}(t) \\tag{6}\n",
    "\\end{align}"
   ]
  },
  {
   "cell_type": "markdown",
   "metadata": {},
   "source": [
    "For linear time-invariant systems, the Laplace transform is an important tool in analysis and design. \n",
    "Applying the Laplace transform to (4) yields\n",
    "\\begin{equation}\n",
    "\\mathbf{\\hat{y}}(s)=\\mathbf{\\hat{G}} (s) \\mathbf{\\hat{u}}(s) \\tag{7}\n",
    "\\end{equation}"
   ]
  },
  {
   "cell_type": "markdown",
   "metadata": {},
   "source": [
    "where a variable with a circumflex denotes the Laplace transform of the variable. \n",
    "The function $\\mathbf{\\hat{G}}(s)$ is called the transfer matrix. Both (4) and (7) are input-output or external descriptions.\n",
    "The former is in the time domain, and the latter is in the frequency domain.\n",
    "    \n",
    "Equations (1) through (6) are called continuous-time equations because their time variable t is a continuum defined at every time instant in (−∞,∞). \n",
    "If the time is defined only at discrete instants, then the corresponding equations are called discrete-time equations.\n",
    "\n",
    "This course is devoted to the analysis and design centered around (1) through (7) and their discrete-time counterparts."
   ]
  },
  {
   "cell_type": "markdown",
   "metadata": {},
   "source": [
    "---"
   ]
  },
  {
   "cell_type": "markdown",
   "metadata": {},
   "source": [
    "#### By the way: Linear system\n",
    "A **linear system** of $m$ equations with $n$ unknowns $x_1$, $x_2$, $x_3$, ... $x_n$, is a collection of equations that can be written in the following form.\n",
    "\n",
    "$$\n",
    "\\begin{eqnarray*}\n",
    "a_{11}x_1 + a_{12}x_2 + \\hspace{0.5cm} ... \\hspace{0.5cm} + a_{1n}x_n & = & b_1 \\\\\n",
    "a_{21}x_1 + a_{22}x_2 + \\hspace{0.5cm} ... \\hspace{0.5cm} + a_{2n}x_n & = & b_2 \\\\\n",
    "\\vdots \\hspace{1.2cm} \\vdots \\hspace{3cm} \\vdots \\hspace{0.5cm}  & = & \\vdots \\\\\n",
    "a_{m1}x_1 + a_{m2}x_2 + \\hspace{0.5cm} ... \\hspace{0.5cm} +  a_{mn}x_n & = & b_m \\\\\n",
    "\\end{eqnarray*}\n",
    "$$\n",
    "\n",
    "Solutions to the linear system are collections of values for the unknowns that simultaneously satisfy all equations.  The set of all possible solutions for the system is known as its **solution set**.  A linear system that has at least one solution is said to be **consistent**, while a linear system that has no solutions is said to be **inconsistent**.   "
   ]
  },
  {
   "cell_type": "markdown",
   "metadata": {},
   "source": [
    "Linear systems with two equations and two unknowns are a great starting point since we easily graph the sets of points that satisfy each equation in the $x_1x_2$ coordinate plane.  The set of points that satisfy a single linear equation in two variables forms a line in the plane.  Three examples will be sufficient to show the possible solution sets for linear systems in this setting.  "
   ]
  },
  {
   "cell_type": "code",
   "execution_count": null,
   "metadata": {},
   "outputs": [],
   "source": [
    "#### Example 1:  System with a unique solution\n",
    "\n",
    "$$\n",
    "\\begin{eqnarray*}\n",
    "x_1 + 3x_2 & = & 5 \\\\\n",
    "x_1 - 2x_2 & = & -5 \\\\\n",
    "\\end{eqnarray*}\n",
    "$$\n",
    "\n",
    "The solution set for each equation can be represented by a line, and the solution set for the linear system is represented by all points that lie on both lines.  In this case the lines intersect at a single point and there is only one pair of values that satisfy both equations, $x_1 = -1$, $x_2 = 2$.  This linear system is consistent."
   ]
  },
  {
   "cell_type": "code",
   "execution_count": 1,
   "metadata": {},
   "outputs": [
    {
     "data": {
      "image/png": "[encoded data removed]",
      "text/plain": [
       "<Figure size 640x480 with 1 Axes>"
      ]
     },
     "metadata": {},
     "output_type": "display_data"
    }
   ],
   "source": [
    "%matplotlib inline\n",
    "import numpy as np\n",
    "import matplotlib.pyplot as plt\n",
    "\n",
    "x=np.linspace(-5,5,100)\n",
    "\n",
    "fig, ax = plt.subplots()\n",
    "ax.plot(x,(5-x)/3)\n",
    "ax.plot(x,(5+x)/2)\n",
    "\n",
    "ax.text(1,1.6,'$x_1+3x_2 = 5$')\n",
    "ax.text(-3,0.5,'$x_1-2x_2 = -5$')\n",
    "\n",
    "ax.set_xlim(-4,4)\n",
    "ax.set_ylim(-2,6)\n",
    "ax.axvline(color='k',linewidth = 1)\n",
    "ax.axhline(color='k',linewidth = 1)\n",
    "\n",
    "## This options specifies the ticks based the list of numbers provided.\n",
    "ax.set_xticks(list(range(-4,5)))\n",
    "ax.set_aspect('equal')\n",
    "ax.grid(True,ls=':')"
   ]
  },
  {
   "cell_type": "markdown",
   "metadata": {},
   "source": [
    "---"
   ]
  },
  {
   "cell_type": "markdown",
   "metadata": {},
   "source": [
    "### <font color='blue'>1. B. What will happen when realizing in Python</font>"
   ]
  },
  {
   "cell_type": "markdown",
   "metadata": {},
   "source": [
    "It is easy to convert state space models to transfer functions since the Laplace transform is a linear operator:\n",
    "\n",
    "$$ \\dot{x} = Ax + Bu \\quad \\therefore \\quad sX(s) = AX(s) + BU(s) \\quad X(s) = (sI - A)^{-1}BU(s)$$\n",
    "$$ y = Cx + Du \\quad \\therefore \\quad Y(s) = CX(s) + DU(s) \\quad Y(s) = \\underbrace{(C(sI - A)^{-1}B + D)}_{G(s)}U(s)$$"
   ]
  },
  {
   "cell_type": "code",
   "execution_count": 3,
   "metadata": {},
   "outputs": [
    {
     "data": {
      "text/latex": [
       "$$\\frac{1}{s + 1}$$"
      ],
      "text/plain": [
       "TransferFunction(array([1]), array([1, 1]))"
      ]
     },
     "execution_count": 3,
     "metadata": {},
     "output_type": "execute_result"
    }
   ],
   "source": [
    "# example: G(s) = 1/(s+1)\n",
    "import control\n",
    "\n",
    "# Define transfer function using python-control\n",
    "Gtf = control.tf([1], [1, 1])  # Transfer function (numerator, denominator)\n",
    "Gtf"
   ]
  },
  {
   "cell_type": "code",
   "execution_count": 4,
   "metadata": {},
   "outputs": [
    {
     "data": {
      "text/latex": [
       "$$\n",
       "\\left(\\begin{array}{rll|rll}\n",
       "-1\\phantom{.}&\\hspace{-1em}&\\hspace{-1em}\\phantom{\\cdot}&1\\phantom{.}&\\hspace{-1em}&\\hspace{-1em}\\phantom{\\cdot}\\\\\n",
       "\\hline\n",
       "1\\phantom{.}&\\hspace{-1em}&\\hspace{-1em}\\phantom{\\cdot}&0\\phantom{.}&\\hspace{-1em}&\\hspace{-1em}\\phantom{\\cdot}\\\\\n",
       "\\end{array}\\right)\n",
       "$$"
      ],
      "text/plain": [
       "StateSpace(array([[-1.]]), array([[1.]]), array([[1.]]), array([[0.]]))"
      ]
     },
     "execution_count": 4,
     "metadata": {},
     "output_type": "execute_result"
    }
   ],
   "source": [
    "Gss = control.ss(Gtf)  # Convert to state-space representation\n",
    "Gss"
   ]
  },
  {
   "cell_type": "code",
   "execution_count": 5,
   "metadata": {},
   "outputs": [
    {
     "name": "stdout",
     "output_type": "stream",
     "text": [
      "Transfer Function: Matrix([[1.0/(1.0*s + 1.0)]])\n"
     ]
    }
   ],
   "source": [
    "import sympy\n",
    "# Extract state-space matrices\n",
    "A, B, C, D = [sympy.Matrix(m) for m in [Gss.A, Gss.B, Gss.C, Gss.D]]\n",
    "\n",
    "# Define symbolic variable\n",
    "s = sympy.symbols('s')\n",
    "\n",
    "# Convert state-space to transfer function\n",
    "G = C * (s * sympy.eye(A.shape[0]) - A).inv() * B + D\n",
    "print(\"Transfer Function:\", G)"
   ]
  },
  {
   "cell_type": "markdown",
   "metadata": {},
   "source": [
    "## <font color='red'> Final Problem:</font>\n",
    "* What are the differences between linear and nonlinear systems? \n",
    "* What are the key properties of linear system theory? *Controllability, Observability, and Stability.* "
   ]
  }
 ],
 "metadata": {
  "kernelspec": {
   "display_name": "Python 3 (ipykernel)",
   "language": "python",
   "name": "python3"
  },
  "language_info": {
   "codemirror_mode": {
    "name": "ipython",
    "version": 3
   },
   "file_extension": ".py",
   "mimetype": "text/x-python",
   "name": "python",
   "nbconvert_exporter": "python",
   "pygments_lexer": "ipython3",
   "version": "3.11.9"
  },
  "varInspector": {
   "cols": {
    "lenName": 16,
    "lenType": 16,
    "lenVar": 40
   },
   "kernels_config": {
    "python": {
     "delete_cmd_postfix": "",
     "delete_cmd_prefix": "del ",
     "library": "var_list.py",
     "varRefreshCmd": "print(var_dic_list())"
    },
    "r": {
     "delete_cmd_postfix": ") ",
     "delete_cmd_prefix": "rm(",
     "library": "var_list.r",
     "varRefreshCmd": "cat(var_dic_list()) "
    }
   },
   "types_to_exclude": [
    "module",
    "function",
    "builtin_function_or_method",
    "instance",
    "_Feature"
   ],
   "window_display": false
  }
 },
 "nbformat": 4,
 "nbformat_minor": 4
}
